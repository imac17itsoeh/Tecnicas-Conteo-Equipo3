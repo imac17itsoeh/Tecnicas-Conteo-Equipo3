{
 "cells": [
  {
   "cell_type": "code",
   "execution_count": 166,
   "metadata": {},
   "outputs": [],
   "source": [
    "import math"
   ]
  },
  {
   "cell_type": "markdown",
   "metadata": {},
   "source": [
    "# Ejercicio 9\n",
    "Sólo para practicar. Los números telefónicos en la ciudad de Cuernavaca, Morelos, constan de siete dígitos."
   ]
  },
  {
   "cell_type": "markdown",
   "metadata": {},
   "source": [
    "#### a)¿Cuántas líneas telefónicas pueden crearse en esa ciudad? Recuerda que no pueden comenzar con cero.\n",
    "\n",
    "Análisis del problema:\n",
    "Los números telefónicos tienen 7 dígitos por los cuales no pueden comenzar con 0 y el primer digito puede ser cuelaquier numero del 1 al 9 \n",
    "\n",
    "\n",
    "\n",
    "Fórmula para calcular el número de líneas telefónicas\n",
    "\n",
    "$$\\text{Número de líneas telefónicas} = \\text{Número de posibilidades para el primer dígito} \\times \\text{Número de posibilidades para cada uno de los siguientes 6 dígitos}$$\n",
    "\n",
    " Entonces al sustituir los valores en la formula, podemos determinar que:\n",
    "\n",
    "$$\\text{Número de líneas telefónicas} = 9 \\times 10^6$$\n",
    "\n",
    "$$\\text{Número de líneas telefónicas} = 9,000,000$$\n",
    "\n",
    "Como resultado, obtuvimos que el número total de líneas telefónicas que podemos crear es de ***9,000,000***\n"
   ]
  },
  {
   "cell_type": "code",
   "execution_count": 167,
   "metadata": {},
   "outputs": [
    {
     "name": "stdout",
     "output_type": "stream",
     "text": [
      "El número de líneas de teléfono que pueden ser creadas en Cuernavaca, Morelos es de:  9000000\n"
     ]
    }
   ],
   "source": [
    "# Implementacion de la solucion del inciso a) del ejercicio 9\n",
    "primerDigitoPosibilidades = 9  \n",
    "    \n",
    "otrosDigitosPosibilades = 10  \n",
    "    \n",
    "posibilidadesTotales = primerDigitoPosibilidades * otrosDigitosPosibilades ** 6\n",
    "    \n",
    "print(f\"El número de líneas de teléfono que pueden ser creadas en Cuernavaca, Morelos es de: \", posibilidadesTotales)"
   ]
  },
  {
   "cell_type": "markdown",
   "metadata": {},
   "source": [
    "#### b)Si los tres primeros dígitos representan una zona de Cuernavaca, ¿cuántas líneas telefónicas pertenecen a la zona 326?\n",
    "Al analizar el problema determinamos que existen: \n",
    "\n",
    "Dígitos fijos: Los tres primeros dígitos de los números telefónicos en la zona 326 están fijos, son 3, 2 y 6.\n",
    "\n",
    " Dígitos variables: Los últimos cuatro dígitos pueden ser cualquier número del 0 al 9. Esto significa que tenemos 10 opciones posibles para cada uno de estos cuatro dígitos.\n",
    "\n",
    "- <font size=\"4\"> Cálculo de permutaciones: Para calcular el número total de líneas telefónicas posibles en la zona 326, multiplicamos el número de opciones para cada uno de los cuatro dígitos variables:\n",
    "\n",
    "     $$   {10 opciones (cuarto dígito)} \\  \\times  \\text{10 opciones (quinto dígito)}  \\times  \\text{10 opciones (sexto dígito)}  \\times \\text{10 opciones (séptimo dígito})$$\n",
    "\n",
    "     $$ 10^4 = 10,000$$\n",
    "  \n",
    "Por lo tanto, hay **10,000** líneas telefónicas que se pueden crear para la zona 326 de Cuernavaca."
   ]
  },
  {
   "cell_type": "code",
   "execution_count": 168,
   "metadata": {},
   "outputs": [
    {
     "name": "stdout",
     "output_type": "stream",
     "text": [
      "El número total de lineas con el prefijo 326 que se pueden crear es de: 10000\n"
     ]
    }
   ],
   "source": [
    "# Implementacion de la solucion del inciso b) del ejercicio 9\n",
    "posibilidadPrimeros_tres_digitos = 1  \n",
    "\n",
    "posibilidadOtros_digitos = 10  \n",
    "\n",
    "posibilidadesTotales = posibilidadPrimeros_tres_digitos * posibilidadOtros_digitos ** 4\n",
    "\n",
    "print(f\"El número total de lineas con el prefijo 326 que se pueden crear es de: {posibilidadesTotales}\")"
   ]
  },
  {
   "cell_type": "markdown",
   "metadata": {},
   "source": [
    "# Ejercicio 10\n",
    "Sólo para practicar. Se tiene la palabra MURCIÉLAGO. Si no se permiten repeticiones al usar las letras que la forman, determina:"
   ]
  },
  {
   "cell_type": "markdown",
   "metadata": {},
   "source": [
    "\n",
    "##### a)El número de palabras que puedes crear.\n",
    "\n",
    "\n",
    "Por lo tanto la cantidad de palabras que podemos formar con las 10 letras sin que se repitan es igual a la multiplicacion de:\n",
    "\n",
    "$$10 \\times 9 \\times 8 \\times 7 \\times 6 \\times 5 \\times 4 \\times 3 \\times 2 \\times 1$$\n",
    "A esta operación se llama factorial y se representa como:  $$10!$$\n",
    "\n",
    "Por lo tanto, la cantidad de palabras que podemos crear es de 3,628,800\n"
   ]
  },
  {
   "cell_type": "code",
   "execution_count": 169,
   "metadata": {},
   "outputs": [
    {
     "name": "stdout",
     "output_type": "stream",
     "text": [
      "El número total de palabras que se pueden formar es: 3628800\n"
     ]
    }
   ],
   "source": [
    "# Implementacion de la solucion del inciso a) del ejercicio 10\n",
    "letras = 10\n",
    "palabras = math.factorial(letras)\n",
    "print(f\"El número total de palabras que se pueden formar es: {palabras}\")"
   ]
  },
  {
   "cell_type": "markdown",
   "metadata": {},
   "source": [
    "#### b)El número de palabras con cinco letras.\n",
    "\n",
    "Para analizar esto, podemos usar la misma logica que en el punto anterior. Por lo tanto la formula que emplearemos es: \n",
    "$$10 \\times 9 \\times 8 \\times 7 \\times 6 = 30,240$$\n",
    "\n",
    "Por lo tanto, la cantidad de palabras que podemos formar con cinco letras es de **30,240**\n"
   ]
  },
  {
   "cell_type": "code",
   "execution_count": 170,
   "metadata": {},
   "outputs": [
    {
     "name": "stdout",
     "output_type": "stream",
     "text": [
      "Hay 30240 palabras con cinco letras\n"
     ]
    }
   ],
   "source": [
    "# Implementacion de la solucion del inciso b) del ejercicio 10\n",
    "n, r = 10, 5\n",
    "numbers_of_3_digits = math.perm(n, r)\n",
    "print(f'Hay {numbers_of_3_digits} palabras con cinco letras')"
   ]
  },
  {
   "cell_type": "markdown",
   "metadata": {},
   "source": [
    "#### c)La probabilidad de que una palabra de cinco letras termine en vocal.\n",
    "\n",
    " Para resolver este inciso tenemos que tomar en cuenta que hay 5 vocales en la palabra MURCIÉLAGO.\n",
    "-  Las vocales son: (A, E, I, O, U).\n",
    "\n",
    "Y tambien hay 5 consonantes en la palabra MURCIÉLAGO.\n",
    "- Las consonantes son: (M, R, C, L, G).\n",
    "\n",
    "Por lo tanto, debemos seguir estos pasos: \n",
    "\n",
    "Elegir la vocal para la última posición: Hay 5 opciones.\n",
    "        \n",
    "- Elegir y ordenar las restantes 4 letras de las 9 letras restantes (porque ya que hemos usado una vocal). Esto se calcula con las permutaciones de 9 elementos tomados de 4 en 4,  $𝑃(9,4)$\n",
    "\n",
    " Sustituimos los valores en la formula original de permutaciones quedando de la siguiente manera: \n",
    "\n",
    "$$P(9,4) = \\frac{9!}{(9-4)!} = \\frac{9!}{5!} = $$\n",
    "$$\\frac{(9*8*7*6)}{(4*3*2*1)} = 3024$$\n",
    "\n",
    "Luego, la probabilidad se calcula como el número de casos favorables dividido por el número total de casos posibles. Esto es:\n",
    "\n",
    "$$P(10,5) = \\frac{10!}{5!} = $$\n",
    "$$\\frac{(10*9*8*7*6)}{(5*4*3*2*1)} = 30240$$\n",
    "\n",
    "\n",
    "\n",
    "\n",
    "$$P(eventos) = \\frac{5 \\times P(9,4)}{P(10,5)} =$$\n",
    "$$p(eventos)= \\frac{5 \\times (3024)}{(30240)} =$$\n",
    "$$p(eventos)= \\frac{(15120)}{(30240)} = 0.5$$\n",
    "\n",
    "\n"
   ]
  },
  {
   "cell_type": "code",
   "execution_count": 171,
   "metadata": {},
   "outputs": [
    {
     "name": "stdout",
     "output_type": "stream",
     "text": [
      "Probabilidad: 0.50000 \n"
     ]
    }
   ],
   "source": [
    "# Implementacion de la solucion del inciso c) del ejercicio 10\n",
    "permutaciones9_4 = math.factorial(9) // math.factorial(5)\n",
    "\n",
    "casosFavorables = 5 * permutaciones9_4\n",
    "\n",
    "permutaciones10_5 = math.factorial(10) // math.factorial(5)\n",
    "\n",
    "probabilidad = casosFavorables / permutaciones10_5\n",
    "\n",
    "print(f\"Probabilidad: {probabilidad:.5f} \")\n"
   ]
  },
  {
   "cell_type": "markdown",
   "metadata": {},
   "source": [
    "# Ejercicio 11\n",
    "Parque vehicular. La Ciudad de México tiene placas de automóviles con tres números seguidos por tres letras, es decir, son placas del tipo 999-AAA. Sin embargo, no pueden empezar con 0 (cero) ni se utilizan las letras I, O, Q y Ñ."
   ]
  },
  {
   "cell_type": "markdown",
   "metadata": {},
   "source": []
  },
  {
   "cell_type": "code",
   "execution_count": null,
   "metadata": {},
   "outputs": [],
   "source": []
  },
  {
   "cell_type": "markdown",
   "metadata": {},
   "source": []
  },
  {
   "cell_type": "code",
   "execution_count": null,
   "metadata": {},
   "outputs": [],
   "source": []
  },
  {
   "cell_type": "markdown",
   "metadata": {},
   "source": []
  },
  {
   "cell_type": "code",
   "execution_count": null,
   "metadata": {},
   "outputs": [],
   "source": []
  },
  {
   "cell_type": "markdown",
   "metadata": {},
   "source": [
    "# Ejercico 12\n",
    "Servicios restauranteros.Una cadena de hamburguesas anuncia que se ofrecen 512 maneras de pedir una hamburguesa. Un cliente puede elegir cualquiera de estos ingredientes: cátsup, mos- taza, mayonesa, aderezo de la casa, cebolla, pepinillos, jitomate, tocino y lechuga. ¿Crees que lo que afirma la empresa sea cierto? Justifica tu respuesta."
   ]
  },
  {
   "cell_type": "markdown",
   "metadata": {},
   "source": []
  },
  {
   "cell_type": "code",
   "execution_count": null,
   "metadata": {},
   "outputs": [],
   "source": []
  },
  {
   "cell_type": "markdown",
   "metadata": {},
   "source": [
    "# Ejercicio 13\n",
    "Cultura. Una persona tiene un libro de cada uno de los autores siguientes: Mario Vargas Llosa, Alberto Ruy Sánchez, Gabriel García Márquez, Günther Grass, Patrick Süskind, Heinrich Böll, Arturo Pérez-Reverte y Camilo José Cela. Como aún no los ha leído, quiere ponerlos en una repisa cerca de su cama. De acuerdo con esto, determina:"
   ]
  },
  {
   "cell_type": "markdown",
   "metadata": {},
   "source": [
    "#### a) ¿De cuántas formas puede acomodar los libros sobre la repisa?\n",
    "Para este primer inciso utilizaremos la fórmula **𝑛!**, ya que nos ayudará a determinar de cuántas formas podemos ordenar los elementos. Por lo tanto, calcularemos **8!**.\n",
    "El resultado de calcular el factorial de 8 es:\n",
    "\\begin{align*}\n",
    "    8! &= 8 \\times 7 \\times 6 \\times 5 \\times 4 \\times 3 \\times 2 \\times 1 \\\\\n",
    "    8! &= 40320\n",
    "\\end{align*}\n",
    "Por lo tanto existen **40320** maneras de acomodar los libros.\n"
   ]
  },
  {
   "cell_type": "code",
   "execution_count": 172,
   "metadata": {},
   "outputs": [
    {
     "name": "stdout",
     "output_type": "stream",
     "text": [
      "El número total de formas en que se pueden acomodar es: 40320\n"
     ]
    }
   ],
   "source": [
    "# Implementacion de la solucion del inciso a) del ejercicio 13\n",
    "n = math.factorial(8)\n",
    "print(\"El número total de formas en que se pueden acomodar es:\", n)"
   ]
  },
  {
   "cell_type": "markdown",
   "metadata": {},
   "source": [
    "#### b) ¿De cuántas maneras puede ordenarlos si quiere que los libros de autores latinoamericanos estén juntos?\n",
    "Primero, calculamos el factorial de 6\n",
    "$$\n",
    "\\begin{align*}\n",
    "    6! &= 6 \\times 5 \\times 4 \\times 3 \\times 2 \\times 1 \\\\\n",
    "    6! &= 720\n",
    "\\end{align*}\n",
    "$$\n",
    "Los libros de autores latinoamericanos se consideran como un bloque único dentro del total de libros. Por lo tanto calculamos el factorial de 3.\n",
    "$$\n",
    "\\begin{align*}\n",
    "    3! &= 3 \\times 2 \\times 1 \\\\\n",
    "    3! &= 6\n",
    "\\end{align*}\n",
    "$$\n",
    "Que nos da el número de formas en las que se pueden organizar los otros 3 bloques de libros (distintos al bloque de autores **NO** latinoamericanos).\n",
    "Para obtener el total de formas de organizar los libros multiplicamos ambos resultados el cual es: **4320**"
   ]
  },
  {
   "cell_type": "code",
   "execution_count": 173,
   "metadata": {},
   "outputs": [
    {
     "name": "stdout",
     "output_type": "stream",
     "text": [
      "El resultado es:  4320\n"
     ]
    }
   ],
   "source": [
    "# Implementacion de la solucion del inciso b) del ejercicio 13\n",
    "result = math.factorial(6) * math.factorial(3)\n",
    "print(\"El resultado es: \",result)"
   ]
  },
  {
   "cell_type": "markdown",
   "metadata": {},
   "source": [
    "#### c) ¿De cuántas formas puede acomodarlos, si los autores latinoamericanos deben estar juntos, así como los autores alemanes y los españoles también?\n",
    "Tenemos tres grupos de autores que deben estar juntos: latinoamericanos, alemanes y españoles.\n",
    "Calcularemos el factorial de 3, que representa las maneras en que se pueden ordenar los autores dentro de cada grupo.\n",
    "$$\n",
    "\\begin{align*}\n",
    "    3! &= 3 \\times 2 \\times 1 \\\\\n",
    "    3! &= 6\n",
    "\\end{align*}\n",
    "$$\n",
    "Calcular el factorial de 2, que representa las maneras en que se pueden ordenar los dos grupos restantes después de colocar el grupo de autores alemanes.\n",
    "$$\n",
    "\\begin{align*}\n",
    "    2! &= 2 \\times 1 \\\\\n",
    "    2! &= 2\n",
    "\\end{align*}\n",
    "$$\n",
    "Al multiplicar \n",
    "$$\n",
    "(3!) \\times (3!) \\times (2!) \\times (3!)\n",
    "$$\n",
    "Obtenemos el número total de formas en que se pueden acomodar los libros cumpliendo con la restricción de que los autores latinoamericanos, alemanes y españoles deben estar juntos en sus respectivos bloques separados que es **432**."
   ]
  },
  {
   "cell_type": "code",
   "execution_count": 174,
   "metadata": {},
   "outputs": [
    {
     "name": "stdout",
     "output_type": "stream",
     "text": [
      "El resultado es:  432\n"
     ]
    }
   ],
   "source": [
    "# Implementacion de la solucion del inciso c) del ejercicio 13\n",
    "result = math.factorial(3) * ( math.factorial(3) *  math.factorial(2) *  math.factorial(3))\n",
    "print(\"El resultado es: \", result)"
   ]
  },
  {
   "cell_type": "markdown",
   "metadata": {},
   "source": [
    "#### d) Determina las probabilidades correspondientes a los incisos (b) y (c)\n",
    "La probabilidad se calcula dividiendo el número de resultados favorables entre el número total de resultados posibles.\n",
    "Esto se expresa matemáticamente de la siguiente manera:\n",
    "$$\n",
    "P(\\text{evento}) = \\frac{\\text{número total de resultados posibles}}{\\text{número de resultados favorables}}\n",
    "$$\n",
    "\n",
    "En nuestros ejercicios, el número de resultados favorables varía según cada inciso, y el número total siempre será 40320."
   ]
  },
  {
   "cell_type": "code",
   "execution_count": 175,
   "metadata": {},
   "outputs": [
    {
     "name": "stdout",
     "output_type": "stream",
     "text": [
      "Probabilidad del inciso b) 0.10714285714285714 %\n",
      "Probabilidad del inciso c) 0.010714285714285714 %\n"
     ]
    }
   ],
   "source": [
    "# Implementacion de la solucion del inciso d) del ejercicio 13\n",
    "b = 4320 / 40320 \n",
    "c = 432 / 40320 \n",
    "print(\"Probabilidad del inciso b)\",b, \"%\")\n",
    "print(\"Probabilidad del inciso c)\",c, \"%\")"
   ]
  },
  {
   "cell_type": "markdown",
   "metadata": {},
   "source": [
    "# Ejercicio 14\n",
    "Finanzas. Se va a formar un portafolio de inversión de cuatro instrumentos financieros a partir de cinco de renta fija y seis de renta variable. ¿De cuántas maneras podría formarse el portafolio si:"
   ]
  },
  {
   "cell_type": "markdown",
   "metadata": {},
   "source": [
    "#### a) No hay restricciones?\n",
    "Para resolver esto, utilizaremos la fórmula de combinaciones:\n",
    "$$\n",
    "\\begin{align}\n",
    "    _nC_r &= \\dfrac{n!}{r!(n - r)!}\\\\\n",
    "\\end{align}\n",
    "$$\n",
    "Dado que hay **cinco** de renta fija y **seis** de renta variable de los cuales solo seleccionamos **cuatro**.\n",
    "Aplicando la fórmula, y obtenemos que:\n",
    " $$\n",
    "\\begin{align}\n",
    "    11C_4 &= \\dfrac{11!}{4!(11 - 4)!}\\\\\n",
    "\\end{align}\n",
    "$$\n",
    "\n",
    "$$\n",
    "\\binom{11}{4} = \\frac{11!}{4!(11-4)!} = \\frac{11!}{4!  7!} = \\frac{7920}{24} = 330\n",
    "$$\n",
    "Por lo tanto se pueden formar **330** combinaciones."
   ]
  },
  {
   "cell_type": "code",
   "execution_count": 176,
   "metadata": {},
   "outputs": [
    {
     "name": "stdout",
     "output_type": "stream",
     "text": [
      "Existen 330 combinaciones posibles.\n"
     ]
    }
   ],
   "source": [
    "# Implementacion de la solucion del inciso a) del ejercicio 14\n",
    "n = 11 \n",
    "r = 4 \n",
    "comb = math.factorial(n) // (math.factorial(r) * math.factorial(n - r)) \n",
    "print(\"Existen\",comb , \"combinaciones posibles.\" )"
   ]
  },
  {
   "cell_type": "markdown",
   "metadata": {},
   "source": [
    "#### b) Debe haber dos instrumentos de renta fija y dos de renta variable?\n",
    "Para resolver este problema, primero seleccionaremos 2 instrumentos de renta fija de los 5 disponibles donde aplicaremos la formula de **combinaciones**.\n",
    " $$\n",
    "\\begin{align}\n",
    "    5C_2 &= \\dfrac{5!}{2!(5 - 2 )!}\\\\\n",
    "\\end{align}\n",
    "$$\n",
    "$$\n",
    "\\binom{5}{2} = \\frac{5!}{2!(5-2)!} = \\frac{5!}{2!  3!} = \\frac{20}{2} = 10\n",
    "$$\n",
    "De igual manera selecionamos 2 de renta variable de los 6 existentes.\n",
    " $$\n",
    "\\begin{align}\n",
    "    6C_2 &= \\dfrac{6!}{2!(6 - 2 )!}\\\\\n",
    "\\end{align}\n",
    "$$\n",
    "$$\n",
    "\\binom{6}{2} = \\frac{6!}{2!(6-2)!} = \\frac{6!}{2!  4!} = \\frac{30}{2} = 15\n",
    "$$\n",
    "Una vez que obtenemos estos dos resultados los multiplicaremos \n",
    "$$\n",
    "\\begin{align*}\n",
    "    10 \\times 15 &= 150\n",
    "\\end{align*}\n",
    "$$\n",
    "Y nos dara como resultado que hay **150** combinaciones posibles."
   ]
  },
  {
   "cell_type": "code",
   "execution_count": 177,
   "metadata": {},
   "outputs": [
    {
     "name": "stdout",
     "output_type": "stream",
     "text": [
      "Existen 150 combinaciones posibles.\n"
     ]
    }
   ],
   "source": [
    "# Implementacion de la solucion del inciso b) del ejercicio 14\n",
    "n1 = 5 \n",
    "r1 = 2\n",
    "comb1 = math.factorial(n1) // (math.factorial(r1) * math.factorial(n1 - r1)) \n",
    "n2 = 6\n",
    "r2 = 2\n",
    "comb2 = math.factorial(n2) // (math.factorial(r2) * math.factorial(n2 - r2)) \n",
    "comb = comb1 * comb2 \n",
    "print(\"Existen\",comb , \"combinaciones posibles.\" )"
   ]
  },
  {
   "cell_type": "markdown",
   "metadata": {},
   "source": [
    "#### c) No debe haber ningún instrumento de renta fija?\n",
    "Usando la misma formula, calcularemos teniendo en cuenta que tenemos que elegir **cuatro** instrumentos de renta variable de los **seis**.\n",
    " $$\n",
    "\\begin{align}\n",
    "    6C_4 &= \\dfrac{6!}{4!(6 - 4!)}\\\\\n",
    "\\end{align}\n",
    "$$\n",
    "\n",
    "$$\n",
    "\\binom{6}{4} = \\frac{6!}{4!(6-4)!} = \\frac{6!}{4!  2!} = \\frac{30}{2} = 15\n",
    "$$\n",
    "\n",
    "\n",
    "Por lo tanto, el resultado obtenido es igual a 15, que representa el número total de combinaciones posibles sin incluir ningún instrumento de renta fija."
   ]
  },
  {
   "cell_type": "code",
   "execution_count": 178,
   "metadata": {},
   "outputs": [
    {
     "name": "stdout",
     "output_type": "stream",
     "text": [
      "Existen 15 combinaciones posibles.\n"
     ]
    }
   ],
   "source": [
    "# Implementacion de la solucion del inciso c) del ejercicio 14\n",
    "n = 6\n",
    "r = 4 \n",
    "comb = math.factorial(n) // (math.factorial(r) * math.factorial(n - r)) \n",
    "print(\"Existen\",comb , \"combinaciones posibles.\" )"
   ]
  },
  {
   "cell_type": "markdown",
   "metadata": {},
   "source": [
    "#### d) Debe haber tres instrumentos de renta fija?\n",
    "Para abordar este punto, debemos escoger 3 instrumentos de renta fija y 1 instrumento de renta variable.  \n",
    "Primero, calcularemos cuántas formas hay de seleccionar 3 instrumentos de renta fija de entre 5 opciones para el cual utilizaremos la fórmula de combinaciones. \n",
    " $$\n",
    "\\begin{align}\n",
    "    5C_3 &= \\dfrac{5!}{3!(5 - 3 )!}\\\\\n",
    "\\end{align}\n",
    "$$\n",
    "$$\n",
    "\\binom{5}{3} = \\frac{5!}{3!(5-3)!} = \\frac{5!}{3!  2!} = \\frac{20}{2} = 10\n",
    "$$\n",
    "Después, determinaremos cuántas formas hay de seleccionar 1 instrumento de renta variable de las 6 opciones \n",
    " $$\n",
    "\\begin{align}\n",
    "    6C_1 &= \\dfrac{6!}{1!(6 - 1 )!}\\\\\n",
    "\\end{align}\n",
    "$$\n",
    "$$\n",
    "\\binom{6}{1} = \\frac{6!}{1!(6-1)!} = \\frac{6!}{1!  5!} = \\frac{6}{1} = 6\n",
    "$$\n",
    "Finalmente, multiplicaremos estos dos resultados para obtener el total de **60**, que representa la cantidad de combinaciones posibles para elegir tres instrumentos de renta fija y uno de renta variable.\n",
    "$$\n",
    "\\begin{align*}\n",
    "    10 \\times 6 &= 60\n",
    "\\end{align*}\n",
    "$$"
   ]
  },
  {
   "cell_type": "code",
   "execution_count": 179,
   "metadata": {},
   "outputs": [
    {
     "name": "stdout",
     "output_type": "stream",
     "text": [
      "Existen 60 combinaciones posibles.\n"
     ]
    }
   ],
   "source": [
    "# Implementacion de la solucion del inciso b) del ejercicio 14\n",
    "n1 = 5 \n",
    "r1 = 3\n",
    "comb1 = math.factorial(n1) // (math.factorial(r1) * math.factorial(n1 - r1)) \n",
    "n2 = 6\n",
    "r2 = 1\n",
    "comb2 = math.factorial(n2) // (math.factorial(r2) * math.factorial(n2 - r2)) \n",
    "comb = comb1 * comb2 \n",
    "print(\"Existen\",comb , \"combinaciones posibles.\" )\n"
   ]
  },
  {
   "cell_type": "markdown",
   "metadata": {},
   "source": [
    "#### e) Calcula las probabilidades para los incisos anteriores\n",
    "La probabilidad se calcula dividiendo el número de resultados favorables entre el número total de resultados posibles.\n",
    "Esto se expresa matemáticamente de la siguiente manera:\n",
    "$$\n",
    "P(\\text{evento}) = \\frac{\\text{número total de resultados posibles}}{\\text{número de resultados favorables}}\n",
    "$$\n",
    "\n",
    "En nuestros ejercicios, el número de resultados favorables varía según cada inciso, y el número total siempre será 330.\n"
   ]
  },
  {
   "cell_type": "code",
   "execution_count": 192,
   "metadata": {},
   "outputs": [
    {
     "name": "stdout",
     "output_type": "stream",
     "text": [
      "Probabilidad del inciso a) 1.0 %\n",
      "Probabilidad del inciso b) 0.45454545454545453 %\n",
      "Probabilidad del inciso c) 0.045454545454545456 %\n",
      "Probabilidad del inciso d) 0.18181818181818182 %\n"
     ]
    }
   ],
   "source": [
    "a = 330 / 330\n",
    "b = 150 / 330\n",
    "c = 15 / 330\n",
    "d = 60 / 330\n",
    "print(\"Probabilidad del inciso a)\",a, \"%\")\n",
    "print(\"Probabilidad del inciso b)\",b, \"%\")\n",
    "print(\"Probabilidad del inciso c)\",c, \"%\")\n",
    "print(\"Probabilidad del inciso d)\",d, \"%\")"
   ]
  },
  {
   "cell_type": "markdown",
   "metadata": {},
   "source": [
    "# Ejercicio 15\n",
    "Futbol. Tres parejas (tres hombres y tres mujeres) compran boletos para ir a un partido de los \n",
    "Pumas. Cuando llegan al estadio de Ciudad Universitaria les surge la duda de cómo sentarse en \n",
    "la fila. ¿De cuántas maneras pueden hacerlo si:\n"
   ]
  },
  {
   "cell_type": "markdown",
   "metadata": {},
   "source": [
    "#### a) No hay restricciones?\n",
    "En este caso, la disposición de las seis personas en la fila no tiene restricciones, por lo que cada persona tiene 6 opciones de asiento diferentes al principio. Una vez que una persona se sienta, las 5 personas restantes tienen 5 opciones de asiento, y así sucesivamente.\n",
    "\n",
    "El número total de maneras de sentarse sin restricciones se puede calcular utilizando la notación factorial:\n",
    "$$\n",
    "n! = n * (n - 1) * (n - 2) * (n - 3) . . . 3 * 2 * 1\n",
    "$$\n",
    "Calculamos 6! para obtener el número total de casos posibles ya que son un total de seis personas:\n",
    "$$\n",
    "6! = 6 * 5 * 4 * 3 * 2 * 1\\\\\n",
    "6!= 720\n",
    "$$\n",
    "Por lo tanto existen **720** formas en las cuales se pueden sentar a los individuos cuando no hay restricciones "
   ]
  },
  {
   "cell_type": "code",
   "execution_count": 180,
   "metadata": {},
   "outputs": [
    {
     "name": "stdout",
     "output_type": "stream",
     "text": [
      "a) Hay 720  formas en las cuales se pueden sentar a los individuos\n"
     ]
    }
   ],
   "source": [
    "# Implementacion de la solucion del inciso a) del ejercicio 15\n",
    "sinRestricciones = math.factorial(6)\n",
    "print(f'a) Hay {sinRestricciones}  formas en las cuales se pueden sentar a los individuos')"
   ]
  },
  {
   "cell_type": "markdown",
   "metadata": {},
   "source": [
    "\n",
    "#### b) Los hombres deben sentarse juntos?\n",
    "Si los hombres deben sentarse juntos, podemos considerarlos como un solo grupo de 3 personas. En este caso, hay un total de cuatro elementos (las 3 mujeres y el grupo de hombres) por lo que se obtiene el factorial de 4 y como en este grupo de hombres pueden haber cambios en las posiciones también es necesario que se obtenga el factorial de 3. Para concluir se deben de multiplicar ambos resultados y este resultado será el numero de maneras en las que pueden sentarse si los hombres deben de permanecer juntos\n",
    "- Calcular el factorial de 4 y 3:\n",
    "$$\n",
    "\\begin{align}\n",
    "    4! &= 4 * 3 * 2 * 1\\\\\n",
    "    4! &= 24\\\\\n",
    "    3! &= 3 * 2 * 1\\\\\n",
    "    3! &= 6\n",
    "\\end{align}\n",
    "$$\n",
    "- Multiplicar los resultados de ambas operaciones:\n",
    "$$\n",
    "\\begin{align}\n",
    "    4! * 3! &= 24 * 6 \\\\\n",
    "    4! * 3! &= 144\n",
    "    \\end{align}\n",
    "$$  \n",
    "Por lo tanto existen **144** combinaciones en caso de que los hombres tengan que estar juntos."
   ]
  },
  {
   "cell_type": "code",
   "execution_count": 181,
   "metadata": {},
   "outputs": [
    {
     "name": "stdout",
     "output_type": "stream",
     "text": [
      "b) Hay 144  combinaciones en caso de que los hombres tengan que estar juntos.\n"
     ]
    }
   ],
   "source": [
    "# Implementacion de la solucion del inciso b) del ejercicio 15\n",
    "hombresJuntos = math.factorial(4) * math.factorial(3)\n",
    "print(f'b) Hay {hombresJuntos}  combinaciones en caso de que los hombres tengan que estar juntos.')"
   ]
  },
  {
   "cell_type": "markdown",
   "metadata": {},
   "source": [
    "\n",
    "#### c) Deben sentarse por parejas?\n",
    "Al sentarse por parejas queda entendido que tendremos un total de 3 parejas diferentes por lo que primeramente obtenemos el número de maneras diferentes en las que podemos sentar a nuestros 3 elementos y esto será calculado con 3!. Dentro de cada pareja existe también un cambio de posiciones lo cual se calcula con 2! para cada pareja, es decir 3 veces. A continuación se muestra lo antes expuesto:\n",
    "- Factorial de 3: número de maneras diferentes en las que puedo sentar a mis parejas:\n",
    "$$\n",
    "\\begin{align}\\\\\n",
    "    3! &= 3 * 2 * 1\\\\\n",
    "    3! &= 6\\\\\n",
    "\\end{align}\n",
    "$$   \n",
    "- Factorial de 2: Dentro de la pareja existen cambio de posiciones (tomar en cuenta que son tres parejas)\n",
    "$$\n",
    "\\begin{align}\\\\\n",
    "    2! &=  2 * 1\\\\\n",
    "    2! &= 2\\\\\n",
    "\\end{align}\n",
    "$$ \n",
    "Multiplicar el resultado de 2! por 3 ya que son tres parejas:\n",
    "$$\n",
    "\\begin{align}\\\\\n",
    "    2! * 3 = 8\n",
    "\\end{align}\n",
    "$$ \n",
    "- Multiplica ambos resultados de las operaciones anteriores: \n",
    "$$\n",
    "\\begin{align}\\\\\n",
    "    6 * 8 = 48\n",
    "\\end{align}\n",
    "$$ \n",
    "Por lo tanto existen **48** combinaciones diferentes al sentarse por parejas."
   ]
  },
  {
   "cell_type": "code",
   "execution_count": 182,
   "metadata": {},
   "outputs": [
    {
     "name": "stdout",
     "output_type": "stream",
     "text": [
      "c) Hay 48 combinaciones diferentes al sentarse por parejas.\n"
     ]
    }
   ],
   "source": [
    "# Implementacion de la solucion del inciso c) del ejercicio 15\n",
    "formasParejas = (math.factorial(2) * math.factorial(2) * math.factorial(2)) * math.factorial(3)\n",
    "print(f'c) Hay {formasParejas} combinaciones diferentes al sentarse por parejas.')"
   ]
  },
  {
   "cell_type": "markdown",
   "metadata": {},
   "source": [
    "\n",
    "#### d) ¿Cuál es la probabilidad de cada uno de los eventos descritos en los incisos anteriores?\n",
    "De acuerdo a  la fórmula de la probabilidad:\n",
    "$$\n",
    "\\begin{align}\n",
    "    P(A) = \\dfrac{Casos Favorables}{CasosPosibles}\n",
    "\\end{align}\n",
    "$$\n",
    "Probabilidad a cada uno de los eventos descritos en los incisos anteriores.  \n",
    "  \n",
    "Probabilidad del inciso b) \"Los hombres deben sentarse juntos\":\n",
    "$$\n",
    "\\begin{align}\n",
    "    P(b) &= \\dfrac{144}{720}\\\\\n",
    "    P(b) &= 0.2\n",
    "\\end{align}\n",
    "$$\n",
    "Probabilidad del inciso c) \"Deben sentarse por pareja\" :\n",
    "\n",
    "$$\n",
    "\\begin{align}\n",
    "    P(c) &= \\dfrac{48}{720}\\\\\n",
    "    P(c) &= 0.0666\n",
    "\\end{align}\n",
    "$$"
   ]
  },
  {
   "cell_type": "code",
   "execution_count": 183,
   "metadata": {},
   "outputs": [
    {
     "name": "stdout",
     "output_type": "stream",
     "text": [
      "d) Probabilidad inciso (b): 0.2\n",
      "   Probabilidad inciso (c): 0.06666666666666667\n"
     ]
    }
   ],
   "source": [
    "# Implementacion de la solucion del inciso d) del ejercicio 15\n",
    "probabilidadB = hombresJuntos / sinRestricciones\n",
    "probabilidadC = formasParejas / sinRestricciones\n",
    "print(\"d) Probabilidad inciso (b):\", probabilidadB)\n",
    "print(\"   Probabilidad inciso (c):\", probabilidadC)"
   ]
  },
  {
   "cell_type": "markdown",
   "metadata": {
    "_cell_guid": "b1076dfc-b9ad-4769-8c92-a6c4dae69d19",
    "_uuid": "8f2839f25d086af736a60e9eeb907d3b93b6e0e5"
   },
   "source": [
    "# Ejercicio 16\n",
    "Trabajo en equipo. En un grupo de 25 alumnos hay 13 chicas y 12 chicos. Se desean formar \n",
    "equipos de trabajo para realizar una investigación:\n"
   ]
  },
  {
   "cell_type": "markdown",
   "metadata": {},
   "source": [
    "#### a) ¿Cuántos equipos de cinco personas pueden formarse?\n",
    "En este inciso, se calcula la cantidad de grupos diferentes que podemos formar al seleccionar **5** estudiantes de un grupo de **25**. **No importa si se trata de hombres o mujeres** solo la cantidad de estudiantes que forman el equipo. Para esto, haremos uso de la formula de combinaciones:  \n",
    "  \n",
    "$$\n",
    "nCr = \\dfrac{n!}{r! (n - r)!}\n",
    "$$\n",
    "\n",
    "Para la cual:    \n",
    "n es el total de elementos en el conjunto.  \n",
    "r es el número de elementos que se quieren ocupar.  \n",
    "! es el factorial.  \n",
    "  \n",
    "$$\n",
    "\\begin{align}\n",
    "    _{25}C_{5} &= \\dfrac{25!}{ 5! ( 25 - 5)!}\\\\\n",
    "    _{25}C_{5} &= \\dfrac{25!}{ 5! ( 20)!}\\\\\n",
    "    _{25}C_{5} &= \\dfrac{ 25 * 24 * 23 * 22* 21 * 20!}{ 5! * 20!}\\\\\n",
    "    _{25}C_{5} &= \\dfrac{25 * 24 * 23 * 22 * 21}{ 5!}\\\\\n",
    "    _{25}C_{5} &= 53130\n",
    "\\end{align}\n",
    "$$  \n",
    "Por lo tanto se pueden formar **53130** equipos de cinco personas. "
   ]
  },
  {
   "cell_type": "code",
   "execution_count": 184,
   "metadata": {},
   "outputs": [
    {
     "name": "stdout",
     "output_type": "stream",
     "text": [
      "a) Hay 53130 equipos de cinco personas\n"
     ]
    }
   ],
   "source": [
    "# Implementacion de la solucion del inciso a) del ejercicio 16\n",
    "aqCinco = math.comb(25, 5)\n",
    "print(f'a) Hay {aqCinco} equipos de cinco personas')"
   ]
  },
  {
   "cell_type": "markdown",
   "metadata": {},
   "source": [
    "#### b) ¿Cuántos equipos pueden formarse si debe haber una chica?\n",
    "\n",
    "En este caso, debemos asegurarnos de que haya una chica en cada equipo de cinco personas, al decir esto, concluimos que los otros 4 miembros del equipo deben de ser chicos, una vez entendido el problema podemos dividir la solución en dos pasos:\n",
    "\n",
    "- **Seleccionar 4 estudiantes varones de los 12 disponibles:** Para calcular el número de combinaciones debemos seleccionar 4 chicos de los 12 disponibles y esto lo podemos lograr utilizando la fórmula de combinaciones:\n",
    "$$\n",
    "\\begin{align}\n",
    "    _{12}C_{4} &= \\dfrac{12!}{ 4! ( 12 - 4)!}\\\\\n",
    "    _{12}C_{4} &= \\dfrac{12!}{ 4! ( 8)!}\\\\\n",
    "    _{12}C_{4} &= \\dfrac{12 * 11 * 10 * 9 * 8!}{ 4! * 8!}\\\\\n",
    "    _{12}C_{4} &= \\dfrac{12 * 11 * 10 * 9}{ 4!}\\\\\n",
    "    _{12}C_{4} &= 495\n",
    "\\end{align}\n",
    "$$  \n",
    "\n",
    "- **Seleccionar 1 chica de entre las 13 disponibles:** Una vez que hemos seleccionado 4 estudiantes, sabemos que el último y quinto integrante debe de ser chica. Hay 13 chicas disponibles, por lo que solo hay 13 opciones y se debe de elegir a solo una de ellas, esto también se resuelve con la fórmula de combinaciones: \n",
    "$$\n",
    "\\begin{align}\n",
    "    _{13}C_{1} &= \\dfrac{13!}{ 1! ( 13 - 1)!}\\\\\n",
    "    _{13}C_{1} &= \\dfrac{13!}{ 1! ( 12)!}\\\\\n",
    "    _{13}C_{1} &= \\dfrac{13 * 12!}{ 1! * 12 !}\\\\\n",
    "    _{13}C_{1} &= \\dfrac{13}{ 1! }\\\\\n",
    "    _{13}C_{1} &= 13\n",
    "\\end{align}\n",
    "$$  \n",
    "\n",
    "\n",
    "**Total de equipos con una chica:**\n",
    "\n",
    "El número total de equipos con una chica se obtiene multiplicando el número de combinaciones del paso 1 por el número de opciones del paso 2:\n",
    "$$\n",
    "\\begin{align}\n",
    "    _{12}C_{4} * _{13}C_{1} &= 495 * 13 \\\\\n",
    "    _{12}C_{4} * _{13}C_{1} &= 6435\n",
    "\\end{align}\n",
    "$$  \n",
    "Por lo tanto se pueden formar **6435** equipos con una chica y cuatro chicos.  "
   ]
  },
  {
   "cell_type": "code",
   "execution_count": 185,
   "metadata": {},
   "outputs": [
    {
     "name": "stdout",
     "output_type": "stream",
     "text": [
      "b) Hay 6435 equipos con una chica y cuatro chicos.\n"
     ]
    }
   ],
   "source": [
    "# Implementacion de la solucion del inciso b) del ejercicio 16\n",
    "unaChica = math.comb(12, 4) * math.comb(13, 1)\n",
    "print(f'b) Hay {unaChica} equipos con una chica y cuatro chicos.')"
   ]
  },
  {
   "cell_type": "markdown",
   "metadata": {},
   "source": [
    "\n",
    "#### c) ¿Cuántos equipos pueden formarse si debe haber dos chicas?\n",
    "\n",
    "En este caso, debemos asegurarnos de que haya dos chica en cada equipo de cinco personas, al decir esto, concluimos nuevamente que los otros 3 miembros del equipo deben de ser chicos, una vez entendido el problema podemos dividir la solución en dos pasos:\n",
    "\n",
    "- **Seleccionar 3 estudiantes varones de los 12 disponibles:** Para calcular el número de combinaciones debemos seleccionar 3 chicos de los 12 disponibles y esto lo podemos lograr utilizando la fórmula de combinaciones:\n",
    "$$\n",
    "\\begin{align}\n",
    "    _{12}C_{3} &= \\dfrac{12!}{ 3! ( 12 - 3)!}\\\\\n",
    "    _{12}C_{3} &= \\dfrac{12!}{ 3! ( 9)!}\\\\\n",
    "    _{12}C_{3} &= \\dfrac{12 * 11 * 10 * 9!}{ 3! * 9!}\\\\\n",
    "    _{12}C_{3} &= \\dfrac{12 * 11 * 10}{ 3!}\\\\\n",
    "    _{12}C_{3} &= 220\n",
    "\\end{align}\n",
    "$$  \n",
    "\n",
    "- **Seleccionar 2 chicas de entre las 13 disponibles:** Una vez que hemos seleccionado 3 estudiantes, sabemos que las ultimas dos deben de ser mujeres. Hay 13 chicas disponibles, por lo que solo hay 13 opciones y se debe de elegir a dos de ellas, esto se resuelve con la fórmula de combinaciones: \n",
    "$$\n",
    "\\begin{align}\n",
    "    _{13}C_{2} &= \\dfrac{13!}{ 2! ( 13 - 2)!}\\\\\n",
    "    _{13}C_{2} &= \\dfrac{13!}{ 2! ( 11)!}\\\\\n",
    "    _{13}C_{2} &= \\dfrac{13 * 12 * 11!}{ 2! * 11!}\\\\\n",
    "    _{13}C_{2} &= \\dfrac{13 * 12}{ 2! }\\\\\n",
    "    _{13}C_{2} &= 78\n",
    "\\end{align}\n",
    "$$  \n",
    "\n",
    "\n",
    "**Total de equipos con dos chicas:**\n",
    "\n",
    "El número total de equipos con dos chicas se obtiene multiplicando el número de combinaciones del paso 1 por el número de opciones del paso 2:\n",
    "$$\n",
    "\\begin{align}\n",
    "    _{12}C_{3} * _{13}C_{2} &= 220 * 78 \\\\\n",
    "    _{12}C_{3} * _{13}C_{2} &= 17160\n",
    "\\end{align}\n",
    "$$  \n",
    "    \n",
    "Por lo tanto se pueden formar **17160** equipos de cinco, con dos chicas y tres chicos.  "
   ]
  },
  {
   "cell_type": "code",
   "execution_count": 186,
   "metadata": {},
   "outputs": [
    {
     "name": "stdout",
     "output_type": "stream",
     "text": [
      "c) Hay 17160 equipos de cinco, con dos chicas y tres chicos.\n"
     ]
    }
   ],
   "source": [
    "# Implementacion de la solucion del inciso c) del ejercicio 16\n",
    "dosChicas = math.comb(12, 3) * math.comb(13, 2)\n",
    "print(f'c) Hay {dosChicas} equipos de cinco, con dos chicas y tres chicos.')"
   ]
  },
  {
   "cell_type": "markdown",
   "metadata": {},
   "source": [
    "\n",
    "#### d) Determina las probabilidades correspondientes a los incisos anteriores.\n",
    "Para calcular la probabilidad, dividimos el número de equipos casos favorables entre el total de casos posibles\n",
    "$$\n",
    "\\begin{align}\n",
    "    P(A) = \\dfrac{Casos Favorables}{CasosPosibles}\n",
    "\\end{align}\n",
    "$$\n",
    "Haciendo uso del cálculo de probabilidad, los equipos que pueden formarse si debe haber una chica, inciso b):\n",
    "$$\n",
    "\\begin{align}\n",
    "    P(b) &= \\dfrac{6435}{53130}\\\\\n",
    "    P(b) &= 0.1211\n",
    "\\end{align}\n",
    "$$\n",
    "Y en el caso de los equipos que pueden formarse si deben de haber dos chicas en el equipo, inciso c):\n",
    "\n",
    "$$\n",
    "\\begin{align}\n",
    "    P(c) &= \\dfrac{17160}{53130}\\\\\n",
    "    P(c) &= 0.3229\n",
    "\\end{align}\n",
    "$$  "
   ]
  },
  {
   "cell_type": "code",
   "execution_count": 187,
   "metadata": {},
   "outputs": [
    {
     "name": "stdout",
     "output_type": "stream",
     "text": [
      "d) Probabilidad incisao b)  0.12111801242236025\n",
      "   Probabilidad incisao c)  0.32298136645962733\n"
     ]
    }
   ],
   "source": [
    "# Implementacion de la solucion del inciso d) del ejercicio 16\n",
    "probabilidadB = unaChica / aqCinco\n",
    "probabilidadC = dosChicas / aqCinco\n",
    "print(\"d) Probabilidad incisao b) \", probabilidadB)\n",
    "print(\"   Probabilidad incisao c) \", probabilidadC)"
   ]
  },
  {
   "cell_type": "markdown",
   "metadata": {},
   "source": [
    "# Ejercicio 17\n",
    "Control de calidad. Se tiene una caja con 24 latas y se sabe que dos están contaminadas. Se van \n",
    "a seleccionar tres latas al azar para someterlas a una prueba de control de calidad, es decir, para \n",
    "medir los estándares de calidad de la empresa.\n"
   ]
  },
  {
   "cell_type": "markdown",
   "metadata": {},
   "source": [
    "#### a) ¿Cuántas combinaciones de tres latas pueden hacerse?\n",
    "En este caso, nos interesa saber cuántos grupos de 3 latas podemos formar a partir de las 24 disponibles, sin importar si la lata está contaminada o no. Para ello, podemos usar la fórmula de combinaciones:\n",
    "$$\n",
    "\\begin{align}\n",
    "    _{24}C_{3} &= \\dfrac{24!}{ 3! ( 24 - 3)!}\\\\\n",
    "    _{24}C_{3} &= \\dfrac{24!}{ 3! ( 21)!}\\\\\n",
    "    _{24}C_{3} &= \\dfrac{ 24 * 23 * 22 * 21!}{ 3! * 21!}\\\\\n",
    "    _{24}C_{3} &= \\dfrac{24 * 23 * 22}{ 3!}\\\\\n",
    "    _{24}C_{3} &= 2024\n",
    "\\end{align}\n",
    "$$  \n",
    "Por lo tanto se pueden formar **2024** combinaciones de tres latas. "
   ]
  },
  {
   "cell_type": "code",
   "execution_count": 188,
   "metadata": {},
   "outputs": [
    {
     "name": "stdout",
     "output_type": "stream",
     "text": [
      "a) Hay 2024 combinaciones de tres latas.\n"
     ]
    }
   ],
   "source": [
    "# Implementacion de la solucion del inciso a) del ejercicio 17\n",
    "tresLatas = math.comb(24, 3)\n",
    "print(f'a) Hay {tresLatas} combinaciones de tres latas.')"
   ]
  },
  {
   "cell_type": "markdown",
   "metadata": {},
   "source": [
    "#### b) ¿Cuál es la probabilidad de que se seleccione una lata contaminada para la prueba?\n",
    "Para poder resolver este inciso, primero se necesita conocer el número de combinaciones de tres latas donde una de ellas esté contaminada, entonces se entiende que dos de ellas no estarán contaminadas y una de ellas si. Para obtener el número de combinaciones se deben de resolver las dos siguientes fórmulas y al final utilizar el principio multiplicativo para conocer el número de combinaciones posibles:\n",
    "- **Seleccionar 2 latas no contaminadas de las 22 posibles:**\n",
    "$$\n",
    "\\begin{align}\n",
    "    _{22}C_{2} &= \\dfrac{22!}{ 2! ( 22 - 2)!}\\\\\n",
    "    _{22}C_{2} &= \\dfrac{22!}{ 2! ( 20)!}\\\\\n",
    "    _{22}C_{2} &= \\dfrac{22 * 21 * 20!}{ 2! * 20!}\\\\\n",
    "    _{22}C_{2} &= \\dfrac{22 * 21 }{ 2!}\\\\\n",
    "    _{22}C_{2} &= 231\n",
    "\\end{align}\n",
    "$$  \n",
    "- **Seleccionar una lata contaminada de las 2 posibles:**\n",
    "$$\n",
    "\\begin{align}\n",
    "    _{2}C_{1} &= \\dfrac{2!}{ 1! ( 2 - 1)!}\\\\\n",
    "    _{2}C_{1} &= \\dfrac{2!}{ 1! ( 1)!}\\\\\n",
    "    _{2}C_{1} &= \\dfrac{2 * 1!}{ 1! *  1!}\\\\\n",
    "    _{2}C_{1} &= \\dfrac{2 }{ 1!}\\\\\n",
    "    _{2}C_{1} &= 2\n",
    "\\end{align}\n",
    "$$ \n",
    "- **Total de combinaciones:**\n",
    "$$\n",
    "\\begin{align}\n",
    "    _{22}C_{2} * _{2}C_{1} &= 231 * 2\\\\\n",
    "    _{22}C_{2} * _{2}C_{1} &= 462\\\\\n",
    "\\end{align}\n",
    "$$ \n",
    "Una vez que ya obtuvimos el total de combinaciones disponibles aplicamos la fórmula: \n",
    "$$\n",
    "\\begin{align}\n",
    "    P(A) = \\dfrac{Casos Favorables}{CasosPosibles}\n",
    "\\end{align}\n",
    "$$\n",
    "Haciendo uso del cálculo de probabilidad despejamos que: \n",
    "$$\n",
    "\\begin{align}\n",
    "    P(b) &= \\dfrac{462}{2024}\\\\\n",
    "    P(b) &= 0.2282\n",
    "\\end{align}\n",
    "$$\n",
    "\n",
    "##### Por lo tanto la probabilidad de que se seleccione una lata contaminada para la prueba es de **0.2282**"
   ]
  },
  {
   "cell_type": "code",
   "execution_count": 189,
   "metadata": {},
   "outputs": [
    {
     "name": "stdout",
     "output_type": "stream",
     "text": [
      "b) Por lo tanto la probabilidad de que se seleccione una lata contaminada para la prueba es de 0.22826086956521738 \n"
     ]
    }
   ],
   "source": [
    "# Implementacion de la solucion del inciso b) del ejercicio 17\n",
    "unaLataContaminada = math.comb(22, 2) * math.comb(2,1)\n",
    "# print(unaLataContaminada)\n",
    "probabilidadUnaLataContaminada = unaLataContaminada / tresLatas\n",
    "print(f'b) Por lo tanto la probabilidad de que se seleccione una lata contaminada para la prueba es de {probabilidadUnaLataContaminada} ')\n",
    "\n"
   ]
  },
  {
   "cell_type": "markdown",
   "metadata": {},
   "source": [
    "\n",
    "#### c) ¿Cuál es la probabilidad de que se seleccione al menos una lata contaminada para la prueba?\n",
    "Para poder resolver este inciso, primero se necesita conocer el número de combinaciones de tres latas donde al menos una de ellas esté contaminada. Para obtener el número de combinaciones se deben de obtener el número de combinaciones posibles cuando dos una de ellas esté contaminada (ya se resolvió previamente en el inciso b) y el número de combinaciones totales si dos de ellas están contaminadas, este último requerimiento se obtiene con las siguientes fórmulas de combinaciones:\n",
    "- **Seleccionar 1 latas no contaminada de las 22 posibles:**\n",
    "$$\n",
    "\\begin{align}\n",
    "    _{22}C_{1} &= \\dfrac{22!}{ 1! ( 22 - 1)!}\\\\\n",
    "    _{22}C_{1} &= \\dfrac{22!}{ 1! ( 21)!}\\\\\n",
    "    _{22}C_{1} &= \\dfrac{22 * 21!}{ 1! * 21!}\\\\\n",
    "    _{22}C_{1} &= \\dfrac{22}{ 1!}\\\\\n",
    "    _{22}C_{1} &= 22\n",
    "\\end{align}\n",
    "$$  \n",
    "- **Seleccionar dos latas contaminadas de las 2 posibles:**\n",
    "$$\n",
    "\\begin{align}\n",
    "    _{2}C_{2} &= \\dfrac{2!}{ 2! ( 2 - 2)!}\\\\\n",
    "    _{2}C_{2} &= \\dfrac{2!}{ 2! ( 0)!}\\\\\n",
    "    _{2}C_{2} &= \\dfrac{2!}{ 2! *  0!}\\\\\n",
    "    _{2}C_{2} &= 1\n",
    "\\end{align}\n",
    "$$ \n",
    "- **Total de combinaciones cuando dos latas son contaminadas:**\n",
    "$$\n",
    "\\begin{align}\n",
    "    _{22}C_{1} * _{2}C_{2} &= 22 * 1\\\\\n",
    "    _{22}C_{1} * _{2}C_{2} &= 22\\\\\n",
    "\\end{align}\n",
    "$$ \n",
    "Una vez que ya obtuvimos el total de combinaciones disponibles aplicamos la fórmula: \n",
    "$$\n",
    "\\begin{align}\n",
    "    P(A) = \\dfrac{Casos Favorables}{CasosPosibles}\n",
    "\\end{align}\n",
    "$$\n",
    "Probabilidad de que dos latas estén contaminadas: \n",
    "$$\n",
    "\\begin{align}\n",
    "    P &= \\dfrac{22}{2024}\\\\\n",
    "    P &= 0.0108\n",
    "\\end{align}\n",
    "$$\n",
    "finalmente esta probabilidad se va a sumar con la probabilidad de solamente obtener una lata contaminada, es decir **\"Probabilidad una lata contaminada + probabilidad dos latas contaminadas = La probabilidad de que se seleccione al menos una lata contaminada para la prueba\"**\n",
    "$$\n",
    "\\begin{align}\n",
    "    P &= 0.0108 + 0.2282\\\\\n",
    "    P &= 0.2391\n",
    "\\end{align}\n",
    "$$\n",
    "\n",
    "##### Por lo tanto la probabilidad de que se seleccione al menos una lata contaminada para la prueba es de **0.2391**"
   ]
  },
  {
   "cell_type": "code",
   "execution_count": 190,
   "metadata": {},
   "outputs": [
    {
     "name": "stdout",
     "output_type": "stream",
     "text": [
      "c) Por lo tanto la probabilidad de que se seleccione al menos una lata contaminada para la prueba es de 0.23913043478260868 \n"
     ]
    }
   ],
   "source": [
    "# Implementacion de la solucion del inciso c) del ejercicio 17\n",
    "dosLataContaminadas = math.comb(22, 1) * math.comb(2, 2)\n",
    "# print(dosLataContaminadas)\n",
    "probabilidadDosLatasContaminadas = dosLataContaminadas / tresLatas\n",
    "PalmenosUnaContaminada = probabilidadUnaLataContaminada + probabilidadDosLatasContaminadas\n",
    "print(f'c) Por lo tanto la probabilidad de que se seleccione al menos una lata contaminada para la prueba es de {PalmenosUnaContaminada} ')\n",
    "\n"
   ]
  },
  {
   "cell_type": "markdown",
   "metadata": {},
   "source": [
    "\n",
    "#### d) ¿Y la probabilidad de que no se elijan latas contaminadas para la prueba?\n",
    "Para poder resolver este inciso, primero se necesita conocer el número de combinaciones de tres latas donde no se elijan latas contaminadas y esto lo podemos llevar a cabo con la fórmula de combinaciones:\n",
    "- **Seleccionar 3 latas no contaminada de las 22 posibles:**\n",
    "$$\n",
    "\\begin{align}\n",
    "    _{22}C_{3} &= \\dfrac{22!}{ 3! ( 22 - 3)!}\\\\\n",
    "    _{22}C_{3} &= \\dfrac{22!}{ 3! ( 19)!}\\\\\n",
    "    _{22}C_{3} &= \\dfrac{22 * 21 * 20 * 19!}{ 3! * 19!}\\\\\n",
    "    _{22}C_{3} &= \\dfrac{22 * 21 * 20}{ 3!}\\\\\n",
    "    _{22}C_{3} &= 1540\n",
    "\\end{align}\n",
    "$$  \n",
    "\n",
    "Una vez que ya obtuvimos el total de combinaciones disponibles aplicamos la fórmula: \n",
    "$$\n",
    "\\begin{align}\n",
    "    P(A) = \\dfrac{Casos Favorables}{CasosPosibles}\n",
    "\\end{align}\n",
    "$$\n",
    "Probabilidad de que ninguna lata esté contaminada: \n",
    "$$\n",
    "\\begin{align}\n",
    "    P(d) &= \\dfrac{1540}{2024}\\\\\n",
    "    P(d) &= 0.7608\n",
    "\\end{align}\n",
    "$$\n",
    "\n",
    "\n",
    "##### Por lo tanto la probabilidad de que se seleccione ninguna lata contaminada para la prueba es de **0.7608**"
   ]
  },
  {
   "cell_type": "code",
   "execution_count": 191,
   "metadata": {},
   "outputs": [
    {
     "name": "stdout",
     "output_type": "stream",
     "text": [
      "d) Por lo tanto la probabilidad de que se seleccione ninguna lata contaminada para la prueba es de 0.7608695652173914 \n"
     ]
    }
   ],
   "source": [
    "# Implementacion de la solucion del inciso d) del ejercicio 17\n",
    "ningunaContaminada = math.comb(22, 3) \n",
    "# print(ningunaContaminada)\n",
    "ProbNingunaContaminada = ningunaContaminada / tresLatas\n",
    "print(f'd) Por lo tanto la probabilidad de que se seleccione ninguna lata contaminada para la prueba es de {ProbNingunaContaminada} ')"
   ]
  }
 ],
 "metadata": {
  "kaggle": {
   "accelerator": "none",
   "dataSources": [],
   "dockerImageVersionId": 30732,
   "isGpuEnabled": false,
   "isInternetEnabled": false,
   "language": "python",
   "sourceType": "notebook"
  },
  "kernelspec": {
   "display_name": "Python 3 (ipykernel)",
   "language": "python",
   "name": "python3"
  },
  "language_info": {
   "codemirror_mode": {
    "name": "ipython",
    "version": 3
   },
   "file_extension": ".py",
   "mimetype": "text/x-python",
   "name": "python",
   "nbconvert_exporter": "python",
   "pygments_lexer": "ipython3",
   "version": "3.12.4"
  }
 },
 "nbformat": 4,
 "nbformat_minor": 4
}
