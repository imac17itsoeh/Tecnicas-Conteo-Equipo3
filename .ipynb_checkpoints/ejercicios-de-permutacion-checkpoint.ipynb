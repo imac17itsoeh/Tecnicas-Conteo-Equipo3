{
 "cells": [
  {
   "cell_type": "markdown",
   "metadata": {},
   "source": [
    "- ## 9. Los números telefónicos en la ciudad de Cuernavaca, Morelos, constan de siete dígitos."
   ]
  },
  {
   "cell_type": "markdown",
   "metadata": {},
   "source": [
    "<font size=\"4\">El problema consiste en calcular el número de líneas telefónicas que se pueden crear en la ciudad de Cuernavaca, Morelos, teniendo en cuenta que:</font>\n",
    "- <font size=\"4\">Los números deben constar de 7 dígitos y no pueden comenzar con cero.\n",
    "\n",
    "\n"
   ]
  },
  {
   "cell_type": "markdown",
   "metadata": {},
   "source": [
    "<font size=\"4\"> **a)** ¿Cuántas líneas telefónicas pueden crearse en esa ciudad? Recuerda que no pueden comenzar con cero.</font>\n",
    "\n",
    "<font size=\"4\"> Análisis del problema</font>\n",
    "\n",
    "- <font size=\"3\">Los números telefónicos tienen 7 dígitos.</font>\n",
    "- <font size=\"3\">Los números no pueden comenzar con 0.</font>\n",
    "- <font size=\"3\">Por lo tanto, el primer dígito puede ser cualquier número del 1 al 9 (9 posibilidades).</font>\n",
    "\n",
    "\n",
    "<font size=\"4\">Fórmula para calcular el número de líneas telefónicas</font>\n",
    "\n",
    "$$\\text{Número de líneas telefónicas} = \\text{Número de posibilidades para el primer dígito} \\times \\text{Número de posibilidades para cada uno de los siguientes 6 dígitos}$$\n",
    "\n",
    "- <font size=\"3\"> Entonces al sustituir los valores en la formula, podemos determinar que:</font>\n",
    "\n",
    "$$\\text{Número de líneas telefónicas} = 9 \\times 10^6$$\n",
    "\n",
    "$$\\text{Número de líneas telefónicas} = 9,000,000$$\n",
    "\n",
    "- <font size=\"3\"> Como resultado, obtuvimos que el número total de líneas telefónicas que podemos crear es de ***9,000,000***</font>\n",
    "\n",
    "<font size=\"4\"> Siguiendo este análisis en Python, podemos calcular el número total de líneas telefónicas que se pueden crear. A continuación, se muestra el código que refleja este cálculo:</font>"
   ]
  },
  {
   "cell_type": "code",
   "execution_count": 93,
   "metadata": {
    "execution": {
     "iopub.execute_input": "2024-06-27T19:57:26.755464Z",
     "iopub.status.busy": "2024-06-27T19:57:26.755049Z",
     "iopub.status.idle": "2024-06-27T19:57:26.763485Z",
     "shell.execute_reply": "2024-06-27T19:57:26.761413Z",
     "shell.execute_reply.started": "2024-06-27T19:57:26.755422Z"
    }
   },
   "outputs": [
    {
     "name": "stdout",
     "output_type": "stream",
     "text": [
      "El número de líneas de teléfono que pueden ser creadas en Cuernavaca, Morelos es de:  9000000\n"
     ]
    }
   ],
   "source": [
    "# Cantidad de posibilidades para el primer dígito (1 a 9)\n",
    "primerDigitoPosibilidades = 9  \n",
    "    \n",
    "# Cantidad de posibilidades para los otros dígitos (0 a 9)\n",
    "otrosDigitosPosibilades = 10  \n",
    "    \n",
    "# Calcula el total de posibles números de teléfono\n",
    "posibilidadesTotales = primerDigitoPosibilidades * otrosDigitosPosibilades ** 6\n",
    "    \n",
    "\n",
    "# Muestra el resultado\n",
    "print(f\"El número de líneas de teléfono que pueden ser creadas en Cuernavaca, Morelos es de: \", posibilidadesTotales)\n"
   ]
  },
  {
   "cell_type": "markdown",
   "metadata": {},
   "source": [
    "\n",
    "<font size=\"4\"> **b)** Si los tres primeros dígitos representan una zona de Cuernavaca, ¿cuántas líneas telefónicas pertenecen a la zona 326? </font>"
   ]
  },
  {
   "cell_type": "markdown",
   "metadata": {},
   "source": [
    "<font size=\"4\"> Al analizar el problema determinamos que existen:\n",
    "\n",
    "- <font size=\"4\"> Dígitos fijos: Los tres primeros dígitos de los números telefónicos en la zona 326 están fijos, son 3, 2 y 6.\n",
    "\n",
    "- <font size=\"4\">  Dígitos variables: Los últimos cuatro dígitos pueden ser cualquier número del 0 al 9. Esto significa que tenemos 10 opciones posibles para cada uno de estos cuatro dígitos.\n",
    "\n",
    "- <font size=\"4\"> Cálculo de permutaciones: Para calcular el número total de líneas telefónicas posibles en la zona 326, multiplicamos el número de opciones para cada uno de los cuatro dígitos variables:\n",
    "\n",
    "     $$   {10 opciones (cuarto dígito)} \\  \\times  \\text{10 opciones (quinto dígito)}  \\times  \\text{10 opciones (sexto dígito)}  \\times \\text{10 opciones (séptimo dígito})$$\n",
    "\n",
    "     $$ 10^4 = 10,000$$\n",
    "  \n",
    "Por lo tanto, hay **10,000** líneas telefónicas que se pueden crear para la zona 326 de Cuernavaca."
   ]
  },
  {
   "cell_type": "code",
   "execution_count": 94,
   "metadata": {
    "execution": {
     "iopub.execute_input": "2024-06-28T02:16:28.026515Z",
     "iopub.status.busy": "2024-06-28T02:16:28.025608Z",
     "iopub.status.idle": "2024-06-28T02:16:28.032696Z",
     "shell.execute_reply": "2024-06-28T02:16:28.031391Z",
     "shell.execute_reply.started": "2024-06-28T02:16:28.026479Z"
    }
   },
   "outputs": [
    {
     "name": "stdout",
     "output_type": "stream",
     "text": [
      "El número total de lineas con el prefijo 326 que se pueden crear es de: 10000\n"
     ]
    }
   ],
   "source": [
    "# Solo el prefijo 326\n",
    "posibilidadPrimeros_tres_digitos = 1  \n",
    "\n",
    "# Numeros 0 a 9\n",
    "posibilidadOtros_digitos = 10  \n",
    "\n",
    "posibilidadesTotales = posibilidadPrimeros_tres_digitos * posibilidadOtros_digitos ** 4\n",
    "\n",
    "print(f\"El número total de lineas con el prefijo 326 que se pueden crear es de: {posibilidadesTotales}\")"
   ]
  },
  {
   "cell_type": "markdown",
   "metadata": {},
   "source": [
    "- ## 10. Se tiene la palabra MURCIÉLAGO. Si no se permiten repeticiones al usar las letras que la forman, determina:\n"
   ]
  },
  {
   "cell_type": "markdown",
   "metadata": {},
   "source": [
    "\n",
    "<font size=\"4\"> **a)** El número de palabras que puedes crear.</font>\n",
    "\n",
    "<font size=\"4\"></font> \n",
    "\n",
    "<font size=\"4\"></font> \n",
    "\n",
    "<font size=\"4\">Por lo tanto la cantidad de palabras que podemos formar con las 10 letras sin que se repitan es igual a la multiplicacion de: </font>  \n",
    "\n",
    "$$10 \\times 9 \\times 8 \\times 7 \\times 6 \\times 5 \\times 4 \\times 3 \\times 2 \\times 1$$\n",
    "<font size=\"4\">A esta operación se llama factorial y se representa como: </font> $$10!$$\n",
    "\n",
    "<font size=\"4\">Por lo tanto, la cantidad de palabras que podemos crear es de **3,628,800**</font>\n",
    "\n",
    "<font size=\"4\">Ahora calculemos el número total de palabras que se pueden formar utilizando la función math.factorial() para calcular la factorial del número de letras distintas: </font>"
   ]
  },
  {
   "cell_type": "code",
   "execution_count": 95,
   "metadata": {},
   "outputs": [
    {
     "name": "stdout",
     "output_type": "stream",
     "text": [
      "El número total de palabras que se pueden formar es: 3628800\n"
     ]
    }
   ],
   "source": [
    "import math as math\n",
    "\n",
    "letras = 10\n",
    "palabras = math.factorial(letras)\n",
    "\n",
    "print(f\"El número total de palabras que se pueden formar es: {palabras}\")"
   ]
  },
  {
   "cell_type": "markdown",
   "metadata": {},
   "source": [
    "<font size=\"4\"> **b)** El número de palabras con cinco letras.</font>\n",
    "\n",
    "<font size=\"4\">Para analizar esto, podemos usar la misma logica que en el punto anterior. Por lo tanto la formula que emplearemos es: </font>\n",
    "$$10 \\times 9 \\times 8 \\times 7 \\times 6 = 30,240$$\n",
    "\n",
    "<font size=\"4\">Por lo tanto, la cantidad de palabras que podemos formar con cinco letras es de **30,240**</font>\n",
    "\n",
    "<font size=\"4\">Aplicando esta logica en python, el codigo se veria de la siguiente manera: </font>"
   ]
  },
  {
   "cell_type": "code",
   "execution_count": 102,
   "metadata": {},
   "outputs": [
    {
     "name": "stdout",
     "output_type": "stream",
     "text": [
      "Hay 30240 palabras con cinco letras\n"
     ]
    }
   ],
   "source": [
    "# Implementacion de la solucion del inciso b) del ejercicio 10\n",
    "n, r = 10, 5\n",
    "numbers_of_3_digits = math.perm(n, r)\n",
    "print(f'Hay {numbers_of_3_digits} palabras con cinco letras')"
   ]
  },
  {
   "cell_type": "markdown",
   "metadata": {},
   "source": [
    "<font size=\"4\"> **c)** La probabilidad de que una palabra de cinco letras termine en vocal.</font>\n",
    "\n",
    "<font size=\"4\"> Para resolver este inciso tenemos que tomar en cuenta que hay 5 vocales en la palabra MURCIÉLAGO.</font> \n",
    "- <font size=\"4\"> Las vocales son: (A, E, I, O, U).</font>\n",
    "\n",
    "<font size=\"4\"> Y tambien hay 5 consonantes en la palabra MURCIÉLAGO.</font> \n",
    "- <font size=\"4\"> Las consonantes son: (M, R, C, L, G).</font>\n",
    "\n",
    "<font size=\"4\"> Por lo tanto, debemos seguir estos pasos: </font>\n",
    "\n",
    "- <font size=\"4\"> Elegir la vocal para la última posición: Hay 5 opciones.\n",
    "        \n",
    "- <font size=\"4\"> Elegir y ordenar las restantes 4 letras de las 9 letras restantes (porque ya que hemos usado una vocal). Esto se calcula con las permutaciones de 9 elementos tomados de 4 en 4, </font> $𝑃(9,4)$\n",
    "\n",
    "- <font size=\"4\"> Sustituimos los valores en la formula original de permutaciones quedando de la siguiente manera:  </font>\n",
    "\n",
    "$$P(9,4) = \\frac{9!}{(9-4)!} = \\frac{9!}{5!} = $$\n",
    "$$\\frac{(9*8*7*6)}{(4*3*2*1)} = 3024$$\n",
    "\n",
    "<font size=\"4\"> Luego, la probabilidad se calcula como el número de casos favorables dividido por el número total de casos posibles. Esto es:</font>\n",
    "\n",
    "$$P(10,5) = \\frac{10!}{5!} = $$\n",
    "$$\\frac{(10*9*8*7*6)}{(5*4*3*2*1)} = 30240$$\n",
    "\n",
    "\n",
    "<font size=\"4\"> una ves resuelto se ve de esta forma:</font>\n",
    "\n",
    "$$P(eventos) = \\frac{5 \\times P(9,4)}{P(10,5)} =$$\n",
    "$$p(eventos)= \\frac{5 \\times (3024)}{(30240)} =$$\n",
    "$$p(eventos)= \\frac{(15120)}{(30240)} = 0.5$$\n",
    "\n",
    "\n",
    "<font size=\"4\"> Si implementamos esta logica en python el codigo se ve de la siguiente forma: </font>"
   ]
  },
  {
   "cell_type": "code",
   "execution_count": 97,
   "metadata": {},
   "outputs": [
    {
     "name": "stdout",
     "output_type": "stream",
     "text": [
      "probabilidad: 0.50000 \n"
     ]
    }
   ],
   "source": [
    "import math\n",
    "\n",
    "# Calcular las permutaciones de 9 letras tomadas de 4 en 4\n",
    "permutaciones9_4 = math.factorial(9) // math.factorial(5)\n",
    "\n",
    "# Calcular la cantidad de casos favorables\n",
    "casosFavorables = 5 * permutaciones9_4\n",
    "\n",
    "# Calcular las permutaciones de 10 letras tomadas de 5 en 5\n",
    "permutaciones10_5 = math.factorial(10) // math.factorial(5)\n",
    "\n",
    "# Calcular la probabilidad\n",
    "probabilidad = casosFavorables / permutaciones10_5\n",
    "\n",
    "print(f\"probabilidad: {probabilidad:.5f} \")\n"
   ]
  }
 ],
 "metadata": {
  "kaggle": {
   "accelerator": "none",
   "dataSources": [],
   "dockerImageVersionId": 30732,
   "isGpuEnabled": false,
   "isInternetEnabled": true,
   "language": "python",
   "sourceType": "notebook"
  },
  "kernelspec": {
   "display_name": "Python 3 (ipykernel)",
   "language": "python",
   "name": "python3"
  },
  "language_info": {
   "codemirror_mode": {
    "name": "ipython",
    "version": 3
   },
   "file_extension": ".py",
   "mimetype": "text/x-python",
   "name": "python",
   "nbconvert_exporter": "python",
   "pygments_lexer": "ipython3",
   "version": "3.11.4"
  }
 },
 "nbformat": 4,
 "nbformat_minor": 4
}
